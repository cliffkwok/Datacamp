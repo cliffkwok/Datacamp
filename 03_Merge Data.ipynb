{
 "cells": [
  {
   "cell_type": "code",
   "execution_count": 11,
   "metadata": {},
   "outputs": [
    {
     "name": "stdout",
     "output_type": "stream",
     "text": [
      "          city  branch_id  revenue\n",
      "0       Austin         10      100\n",
      "1       Denver         20       83\n",
      "2  Springfield         30        4\n",
      "3    Mendocino         47      200\n",
      "        city  branch_id  revenue\n",
      "0     Austin         10      100\n",
      "1     Denver         20       83\n",
      "2  Mendocino         47      200\n"
     ]
    }
   ],
   "source": [
    "# MERGE DATA\n",
    "\n",
    "import pandas as pd\n",
    "revenue = pd.read_excel('revenue.xlsx')\n",
    "manager = pd.read_excel('manager.xlsx')\n",
    "\n",
    "print(revenue)\n",
    "print(manager)"
   ]
  },
  {
   "cell_type": "code",
   "execution_count": null,
   "metadata": {},
   "outputs": [],
   "source": [
    "# Merge by one column\n",
    "merge_by_city = pd.merge(revenue, manager, on='city')\n",
    "print(merge_by_city)"
   ]
  },
  {
   "cell_type": "code",
   "execution_count": 13,
   "metadata": {},
   "outputs": [
    {
     "name": "stdout",
     "output_type": "stream",
     "text": [
      "        city  branch_id_x  revenue_x  branch_id_y  revenue_y\n",
      "0     Austin           10        100           10        100\n",
      "1     Denver           20         83           20         83\n",
      "2  Mendocino           47        200           47        200\n"
     ]
    }
   ],
   "source": [
    "# Merge by two different name -> left_on, right_on\n",
    "combined = pd.merge(revenue, manager, left_on='city', right_on='city')\n",
    "print(combined)"
   ]
  },
  {
   "cell_type": "code",
   "execution_count": null,
   "metadata": {},
   "outputs": [],
   "source": []
  }
 ],
 "metadata": {
  "kernelspec": {
   "display_name": "Python 3",
   "language": "python",
   "name": "python3"
  },
  "language_info": {
   "codemirror_mode": {
    "name": "ipython",
    "version": 3
   },
   "file_extension": ".py",
   "mimetype": "text/x-python",
   "name": "python",
   "nbconvert_exporter": "python",
   "pygments_lexer": "ipython3",
   "version": "3.7.0"
  },
  "toc": {
   "base_numbering": 1,
   "nav_menu": {},
   "number_sections": true,
   "sideBar": true,
   "skip_h1_title": false,
   "title_cell": "Table of Contents",
   "title_sidebar": "Contents",
   "toc_cell": false,
   "toc_position": {},
   "toc_section_display": true,
   "toc_window_display": false
  }
 },
 "nbformat": 4,
 "nbformat_minor": 2
}
